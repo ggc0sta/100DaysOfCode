{
 "cells": [
  {
   "cell_type": "code",
   "execution_count": 2,
   "metadata": {
    "collapsed": true
   },
   "outputs": [
    {
     "name": "stdout",
     "output_type": "stream",
     "text": [
      "the key 'asdasd' does not exist.\n",
      "File was closed\n"
     ]
    }
   ],
   "source": [
    "# Guide\n",
    "\n",
    "try:\n",
    "    file = open(\"a_file.txt\")  # this file might not exist\n",
    "    a_dictionary = {\"key\": \"banana\"}\n",
    "    print(a_dictionary[\"asdasd\"])  # non existing key\n",
    "\n",
    "except FileNotFoundError:\n",
    "    file = open(\"a_file.txt\", mode=\"w\")  # if file doesn't exist, create one\n",
    "    file.write(\"Some text\")\n",
    "\n",
    "except KeyError as error_message:\n",
    "    # if we use a non-existing key\n",
    "    print(f\"the key {error_message} does not exist.\")\n",
    "\n",
    "else:\n",
    "    content = file.read()\n",
    "    print(content)\n",
    "finally:\n",
    "    # This section runs no matter what happens\n",
    "    file.close()\n",
    "    print(\"File was closed\")"
   ]
  },
  {
   "cell_type": "code",
   "execution_count": null,
   "outputs": [],
   "source": [
    "# If user enters a non-realistic value\n",
    "height = float(input(\"Height in cm: \"))\n",
    "weight = int(input(\"Weight in kg: \"))\n",
    "\n",
    "if height > 300:\n",
    "    raise ValueError(\"Human height should not be over 3 meters\")\n",
    "bmi = weight / height ** 2\n",
    "print(bmi)\n"
   ],
   "metadata": {
    "collapsed": false
   }
  },
  {
   "cell_type": "code",
   "execution_count": 3,
   "outputs": [
    {
     "name": "stdout",
     "output_type": "stream",
     "text": [
      "Make some pie\n"
     ]
    }
   ],
   "source": [
    "# IndexError\n",
    "fruits = [\"Apple\", \"Pear\", \"Orange\"]\n",
    "\n",
    "# TODO: Catch the exception and make sure the code runs without crashing.\n",
    "def make_pie(index):\n",
    "    try:\n",
    "        fruit = fruits[index]\n",
    "    except IndexError:\n",
    "        print(\"Make some pie\")\n",
    "    else:\n",
    "        print(fruit + \" pie\")\n",
    "\n",
    "make_pie(4)\n"
   ],
   "metadata": {
    "collapsed": false
   }
  },
  {
   "cell_type": "code",
   "execution_count": 4,
   "outputs": [
    {
     "name": "stdout",
     "output_type": "stream",
     "text": [
      "86\n"
     ]
    }
   ],
   "source": [
    "facebook_posts = [\n",
    "    {'Likes': 21, 'Comments': 2},\n",
    "    {'Likes': 13, 'Comments': 2, 'Shares': 1},\n",
    "    {'Likes': 33, 'Comments': 8, 'Shares': 3},\n",
    "    {'Comments': 4, 'Shares': 2},\n",
    "    {'Comments': 1, 'Shares': 1},\n",
    "    {'Likes': 19, 'Comments': 3}\n",
    "]\n",
    "\n",
    "total_likes = 0\n",
    "\n",
    "for post in facebook_posts:\n",
    "    try:\n",
    "        post_likes = post['Likes']\n",
    "    except KeyError:\n",
    "        post_likes = 0\n",
    "    finally:\n",
    "        total_likes += post_likes\n",
    "\n",
    "\n",
    "print(total_likes)"
   ],
   "metadata": {
    "collapsed": false
   }
  },
  {
   "cell_type": "code",
   "execution_count": null,
   "outputs": [],
   "source": [],
   "metadata": {
    "collapsed": false
   }
  }
 ],
 "metadata": {
  "kernelspec": {
   "display_name": "Python 3",
   "language": "python",
   "name": "python3"
  },
  "language_info": {
   "codemirror_mode": {
    "name": "ipython",
    "version": 2
   },
   "file_extension": ".py",
   "mimetype": "text/x-python",
   "name": "python",
   "nbconvert_exporter": "python",
   "pygments_lexer": "ipython2",
   "version": "2.7.6"
  }
 },
 "nbformat": 4,
 "nbformat_minor": 0
}
